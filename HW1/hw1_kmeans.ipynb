{
 "cells": [
  {
   "cell_type": "code",
   "execution_count": null,
   "id": "4d73be93",
   "metadata": {},
   "outputs": [],
   "source": [
    "import pandas as pd\n",
    "import random as rd\n",
    "import matplotlib.pyplot as plt\n",
    "df=pd.read_csv('cdata.csv')\n",
    "display(df.head())"
   ]
  },
  {
   "cell_type": "code",
   "execution_count": null,
   "id": "ca6c407b",
   "metadata": {},
   "outputs": [],
   "source": [
    "#第一題\n",
    "df1=df[['x','y']]\n",
    "plt.scatter(df1[\"x\"],df1[\"y\"],c='navajowhite')\n",
    "plt.xlabel('x')\n",
    "plt.ylabel('y')\n",
    "plt.show()\n",
    "display(df1)"
   ]
  },
  {
   "cell_type": "code",
   "execution_count": null,
   "id": "5b40ef66",
   "metadata": {},
   "outputs": [],
   "source": [
    "#隨機選取點 K=4\n",
    "from random import sample\n",
    "a=df1.sample(n=3)\n",
    "display(a)\n",
    "plt.scatter(df1[\"x\"],df1[\"y\"],c='dimgray')\n",
    "plt.scatter(a['x'],a['y'],c='lightcoral')\n",
    "plt.legend(labels=['a','b'])\n",
    "plt.xlabel('x')\n",
    "plt.ylabel('y')\n",
    "plt.show"
   ]
  },
  {
   "cell_type": "code",
   "execution_count": null,
   "id": "1eb14188",
   "metadata": {},
   "outputs": [],
   "source": [
    "for index1,row1 in df1.iterrows() :\n",
    "    print(row1[1])"
   ]
  },
  {
   "cell_type": "code",
   "execution_count": null,
   "id": "5c007aef",
   "metadata": {},
   "outputs": [],
   "source": [
    "#算距離\n",
    "import numpy as np\n",
    "var2=1\n",
    "m=0\n",
    "k=4\n",
    "while (var2 != 0) :\n",
    "    var3=df1\n",
    "    c=1\n",
    "    for index,row in a.iterrows() :\n",
    "        list1=[]\n",
    "        for index1,row1 in df1.iterrows() :\n",
    "            x_d=(row['x']-row1['x'])**2\n",
    "            y_d=(row['y']-row1['y'])**2\n",
    "            d=np.sqrt(x_d+y_d)\n",
    "            list1.append(d)\n",
    "        \n",
    "        df1[c]=list1\n",
    "        c=c+1\n",
    "#跑不出來... QQ\n",
    "list2=[]\n",
    "for index,row in df1.iterrows():\n",
    "    distance=row[1]\n",
    "    n=1\n",
    "    for i in range(K):\n",
    "        if row[i+1] < distance:\n",
    "            distance = row[i+1]\n",
    "            n=i+1\n",
    "    C.append(n)\n",
    "df1[\"Cluster\"]=C\n",
    "a_new = df1.groupby([\"Cluster\"]).mean()[[\"y\",\"x\"]]\n",
    "\n",
    "if m == 0:\n",
    "    var2=1\n",
    "    m=m+1\n",
    "else:\n",
    "    var2 = (a_new['y'] - a['y']).sum() + (a_new['x'] - a['x']).sum()\n",
    "    print(diff.sum())\n",
    "groups = df1.groupby([\"Cluster\"]).mean()[[\"y\",\"x\"]]\n"
   ]
  },
  {
   "cell_type": "code",
   "execution_count": null,
   "id": "f92b5c60",
   "metadata": {},
   "outputs": [],
   "source": []
  },
  {
   "cell_type": "code",
   "execution_count": null,
   "id": "f0fd8420",
   "metadata": {},
   "outputs": [],
   "source": []
  }
 ],
 "metadata": {
  "kernelspec": {
   "display_name": "Python 3",
   "language": "python",
   "name": "python3"
  },
  "language_info": {
   "codemirror_mode": {
    "name": "ipython",
    "version": 3
   },
   "file_extension": ".py",
   "mimetype": "text/x-python",
   "name": "python",
   "nbconvert_exporter": "python",
   "pygments_lexer": "ipython3",
   "version": "3.8.5"
  }
 },
 "nbformat": 4,
 "nbformat_minor": 5
}
