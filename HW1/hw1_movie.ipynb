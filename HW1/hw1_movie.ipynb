{
 "cells": [
  {
   "cell_type": "code",
   "execution_count": 1,
   "id": "99c43a33",
   "metadata": {},
   "outputs": [
    {
     "name": "stdout",
     "output_type": "stream",
     "text": [
      "     Rank                    Title                     Genre  \\\n",
      "0      55          The Dark Knight        Action|Crime|Drama   \n",
      "1      81                Inception   Action|Adventure|Sci-Fi   \n",
      "2     118                   Dangal    Action|Biography|Drama   \n",
      "3      37             Interstellar    Adventure|Drama|Sci-Fi   \n",
      "4      97            Kimi no na wa   Animation|Drama|Fantasy   \n",
      "..    ...                      ...                       ...   \n",
      "995   969                  Wrecker    Action|Horror|Thriller   \n",
      "996   648                 Tall Men   Fantasy|Horror|Thriller   \n",
      "997    43  Don't Fuck in the Woods                    Horror   \n",
      "998   872     Dragonball Evolution  Action|Adventure|Fantasy   \n",
      "999   830           Disaster Movie                    Comedy   \n",
      "\n",
      "              Director                                             Actors  \\\n",
      "0    Christopher Nolan  Christian Bale| Heath Ledger| Aaron Eckhart|Mi...   \n",
      "1    Christopher Nolan  Leonardo DiCaprio| Joseph Gordon-Levitt| Ellen...   \n",
      "2        Nitesh Tiwari  Aamir Khan| Sakshi Tanwar| Fatima Sana Shaikh|...   \n",
      "3    Christopher Nolan  Matthew McConaughey| Anne Hathaway| Jessica Ch...   \n",
      "4       Makoto Shinkai  Ryunosuke Kamiki| Mone Kamishiraishi| Ryo Nari...   \n",
      "..                 ...                                                ...   \n",
      "995     Micheal Bafaro  Anna Hutchison| Andrea Whitburn| Jennifer Koen...   \n",
      "996  Jonathan Holbrook  Dan Crisafulli| Kay Whitney| Richard Garcia| P...   \n",
      "997      Shawn Burkett  Brittany Blanton| Ayse Howard| Roman Jossart|N...   \n",
      "998         James Wong  Justin Chatwin| James Marsters| Yun-Fat Chow| ...   \n",
      "999    Jason Friedberg  Carmen Electra| Vanessa Lachey|Nicole Parker| ...   \n",
      "\n",
      "     Year  Runtime (Minutes)  Rating    Votes  Revenue (Millions)  Metascore  \n",
      "0    2008                152     9.0  1791916              533.32       82.0  \n",
      "1    2010                148     8.8  1583625              292.57       74.0  \n",
      "2    2016                161     8.8    48969               11.15        NaN  \n",
      "3    2014                169     8.6  1047747              187.99       74.0  \n",
      "4    2016                106     8.6    34110                4.68       79.0  \n",
      "..    ...                ...     ...      ...                 ...        ...  \n",
      "995  2015                 83     3.5     1210                 NaN       37.0  \n",
      "996  2016                133     3.2      173                 NaN       57.0  \n",
      "997  2016                 73     2.7      496                 NaN        NaN  \n",
      "998  2009                 85     2.7    59512                9.35       45.0  \n",
      "999  2008                 87     1.9    77207               14.17       15.0  \n",
      "\n",
      "[1000 rows x 11 columns]\n"
     ]
    }
   ],
   "source": [
    "import pandas as pd\n",
    "df=pd.read_csv('IMDB-Movie-Data.csv')\n",
    "print(df)"
   ]
  },
  {
   "cell_type": "code",
   "execution_count": 2,
   "id": "be9e7f70",
   "metadata": {},
   "outputs": [
    {
     "name": "stdout",
     "output_type": "stream",
     "text": [
      "top1 Dangal\n",
      "top2 Kimi no na wa\n",
      "top3 Koe no katachi\n"
     ]
    }
   ],
   "source": [
    "#第一題\n",
    "#Top‐3 movies with the highest ratings in 2016? \n",
    "#print(df.columns)\n",
    "#抓取\n",
    "df[['Title', 'Year','Rating']]\n",
    "df1=df[['Title','Rating']][df['Year'] ==2016]\n",
    "#print(df1)\n",
    "#找出前三大\n",
    "top3=df1.nlargest(3,'Rating')\n",
    "#print(top3)\n",
    "print('top1',top3.iloc[0][0])\n",
    "print('top2',top3.iloc[1][0])\n",
    "print('top3',top3.iloc[2][0])"
   ]
  },
  {
   "cell_type": "code",
   "execution_count": 3,
   "id": "943ed6ad",
   "metadata": {},
   "outputs": [
    {
     "name": "stdout",
     "output_type": "stream",
     "text": [
      "The actor generating the highest average revenue?  Daisy Ridley\n"
     ]
    },
    {
     "name": "stderr",
     "output_type": "stream",
     "text": [
      "C:\\Users\\user\\AppData\\Roaming\\Python\\Python38\\site-packages\\pandas\\core\\frame.py:5176: SettingWithCopyWarning: \n",
      "A value is trying to be set on a copy of a slice from a DataFrame\n",
      "\n",
      "See the caveats in the documentation: https://pandas.pydata.org/pandas-docs/stable/user_guide/indexing.html#returning-a-view-versus-a-copy\n",
      "  return super().fillna(\n",
      "C:\\Users\\user\\AppData\\Roaming\\Python\\Python38\\site-packages\\pandas\\core\\frame.py:3641: SettingWithCopyWarning: \n",
      "A value is trying to be set on a copy of a slice from a DataFrame.\n",
      "Try using .loc[row_indexer,col_indexer] = value instead\n",
      "\n",
      "See the caveats in the documentation: https://pandas.pydata.org/pandas-docs/stable/user_guide/indexing.html#returning-a-view-versus-a-copy\n",
      "  self[k1] = value[k2]\n"
     ]
    }
   ],
   "source": [
    "#第二題\n",
    "#The actor generating the highest average revenue? \n",
    "df2=df[['Actors','Revenue (Millions)']]\n",
    "df2.fillna(0.0,inplace=True)\n",
    "df2[['actor1','actor2','actor3','actor4']]=df2.Actors.str.split('|',expand=True)\n",
    "#print(df2)\n",
    "#將actors,revenue 變成一個dataframe\n",
    "new=pd.DataFrame({'actors':df2['actor1'],\n",
    "                 'revenue':df2['Revenue (Millions)']})\n",
    "new1=pd.DataFrame({'actors':df2['actor2'],\n",
    "                 'revenue':df2['Revenue (Millions)']})\n",
    "new2=pd.DataFrame({'actors':df2['actor3'],\n",
    "                 'revenue':df2['Revenue (Millions)']})\n",
    "new3=pd.DataFrame({'actors':df2['actor4'],\n",
    "                 'revenue':df2['Revenue (Millions)']})\n",
    "new=new.append(new1,ignore_index=True)\n",
    "new=new.append(new2,ignore_index=True)\n",
    "new=new.append(new3,ignore_index=True)\n",
    "#print(new)\n",
    "#找出最大值\n",
    "new1=new.groupby('actors').mean()\n",
    "top1=float(new1.max())\n",
    "d1=new1.to_dict()\n",
    "var1=d1['revenue']\n",
    "#print(var1)\n",
    "newvar1={v:k for k,v in var1.items()}\n",
    "#print(newvar1)\n",
    "#print(top1)\n",
    "print('The actor generating the highest average revenue? ',newvar1[top1])"
   ]
  },
  {
   "cell_type": "code",
   "execution_count": 8,
   "id": "80f6e66a",
   "metadata": {},
   "outputs": [
    {
     "name": "stdout",
     "output_type": "stream",
     "text": [
      "                  actors  rating\n",
      "0         Christian Bale     9.0\n",
      "1      Leonardo DiCaprio     8.8\n",
      "2             Aamir Khan     8.8\n",
      "3    Matthew McConaughey     8.6\n",
      "4       Ryunosuke Kamiki     8.6\n",
      "..                   ...     ...\n",
      "995       Anna Hutchison     3.5\n",
      "996       Dan Crisafulli     3.2\n",
      "997     Brittany Blanton     2.7\n",
      "998       Justin Chatwin     2.7\n",
      "999       Carmen Electra     1.9\n",
      "\n",
      "[1000 rows x 2 columns]\n",
      "The average rating of Emma Watson’s movies? 7.185714285714286\n"
     ]
    },
    {
     "name": "stderr",
     "output_type": "stream",
     "text": [
      "C:\\Users\\user\\AppData\\Roaming\\Python\\Python38\\site-packages\\pandas\\core\\frame.py:3641: SettingWithCopyWarning: \n",
      "A value is trying to be set on a copy of a slice from a DataFrame.\n",
      "Try using .loc[row_indexer,col_indexer] = value instead\n",
      "\n",
      "See the caveats in the documentation: https://pandas.pydata.org/pandas-docs/stable/user_guide/indexing.html#returning-a-view-versus-a-copy\n",
      "  self[k1] = value[k2]\n"
     ]
    }
   ],
   "source": [
    "#第三題\n",
    "#The average rating of Emma Watson’s movies?\n",
    "df4=df[['Actors','Rating']]\n",
    "df4[['actor1','actor2','actor3','actor4']]=df4.Actors.str.split('|',expand=True)\n",
    "#將actor,rating變成一個 dataframe\n",
    "n=pd.DataFrame({'actors':df4['actor1'],\n",
    "                 'rating':df4['Rating']})\n",
    "n1=pd.DataFrame({'actors':df4['actor3'],\n",
    "                 'rating':df4['Rating']})\n",
    "n2=pd.DataFrame({'actors':df4['actor4'],\n",
    "                 'rating':df4['Rating']})\n",
    "n3=pd.DataFrame({'actors':df4['actor2'],\n",
    "                 'rating':df4['Rating']})\n",
    "#print(n)\n",
    "n=n.append(n1,ignore_index=True)\n",
    "n=n.append(n2,ignore_index=True)\n",
    "n=n.append(n3,ignore_index=True)\n",
    "\n",
    "emmas=n.groupby('actors').get_group(' Emma Watson')\n",
    "print('The average rating of Emma Watson’s movies?',emmas['rating'].mean())"
   ]
  },
  {
   "cell_type": "code",
   "execution_count": 4,
   "id": "a96e4754",
   "metadata": {},
   "outputs": [
    {
     "name": "stdout",
     "output_type": "stream",
     "text": [
      "Top‐3 directors who collaborate with the most actors? \n",
      "Ridley Scott\n",
      "M. Night Shyamalan\n",
      "Paul W.S. Anderson\n"
     ]
    },
    {
     "data": {
      "text/html": [
       "<div>\n",
       "<style scoped>\n",
       "    .dataframe tbody tr th:only-of-type {\n",
       "        vertical-align: middle;\n",
       "    }\n",
       "\n",
       "    .dataframe tbody tr th {\n",
       "        vertical-align: top;\n",
       "    }\n",
       "\n",
       "    .dataframe thead th {\n",
       "        text-align: right;\n",
       "    }\n",
       "</style>\n",
       "<table border=\"1\" class=\"dataframe\">\n",
       "  <thead>\n",
       "    <tr style=\"text-align: right;\">\n",
       "      <th></th>\n",
       "      <th>actors</th>\n",
       "      <th>num</th>\n",
       "    </tr>\n",
       "  </thead>\n",
       "  <tbody>\n",
       "    <tr>\n",
       "      <th>49</th>\n",
       "      <td>Ridley Scott</td>\n",
       "      <td>30</td>\n",
       "    </tr>\n",
       "    <tr>\n",
       "      <th>191</th>\n",
       "      <td>M. Night Shyamalan</td>\n",
       "      <td>24</td>\n",
       "    </tr>\n",
       "    <tr>\n",
       "      <th>445</th>\n",
       "      <td>Paul W.S. Anderson</td>\n",
       "      <td>21</td>\n",
       "    </tr>\n",
       "  </tbody>\n",
       "</table>\n",
       "</div>"
      ],
      "text/plain": [
       "                 actors  num\n",
       "49         Ridley Scott   30\n",
       "191  M. Night Shyamalan   24\n",
       "445  Paul W.S. Anderson   21"
      ]
     },
     "execution_count": 4,
     "metadata": {},
     "output_type": "execute_result"
    }
   ],
   "source": [
    "#第四題\n",
    "#Top‐3 directors who collaborate with the most actors? \n",
    "df6=df.loc[:,['Director', 'Actors']]\n",
    "df6[['actor1','actor2','actor3','actor4']]=df6.Actors.str.split('|',expand=True)\n",
    "f=df.loc[:,['Director']]\n",
    "F=f.drop_duplicates(subset='Director')\n",
    "#print(df6)\n",
    "pieces=[df6['Director'],df6['actor1'],df6['actor2'],df6['actor3'],df6['actor4']]\n",
    "actors=pd.concat(pieces,axis=1)\n",
    "#print(actors)\n",
    "director_ac=actors.groupby('Director')\n",
    "\n",
    "dict1={}\n",
    "for i in F['Director'] :\n",
    "    var3=actors.groupby('Director').get_group(i)\n",
    "    var6=var3.loc[:,['actor1']]\n",
    "    var6=var6['actor1'].append(var3['actor2'])\n",
    "    var6=var6.append(var3['actor3'])\n",
    "    var6=var6.append(var3['actor4'])\n",
    "    data=pd.DataFrame(var6)\n",
    "    #print(var5['actor1'])\n",
    "    data.columns=['actors']\n",
    "    var7=data.drop_duplicates(subset='actors')\n",
    "    \n",
    "    num_dir=var7['actors'].count()\n",
    "    dict1.setdefault(i,num_dir)\n",
    "\n",
    "\n",
    "df7=pd.DataFrame(list(dict1.items()),columns=['actors','num'])\n",
    "df7=df7.sort_values(by='num',ascending=False)\n",
    "top_3=df7.head(3)\n",
    "\n",
    "print('Top‐3 directors who collaborate with the most actors? ')\n",
    "print(top_3.iloc[0][0])\n",
    "print(top_3.iloc[1][0])\n",
    "print(top_3.iloc[2][0])\n",
    "top_3"
   ]
  },
  {
   "cell_type": "code",
   "execution_count": 14,
   "id": "7ed68033",
   "metadata": {},
   "outputs": [],
   "source": [
    "##第五題\n",
    "#Top‐2 actors playing in the most genres of movies? \n",
    "df5=df.loc[:, ['Actors', 'Genre']]"
   ]
  },
  {
   "cell_type": "code",
   "execution_count": 15,
   "id": "6ec206da",
   "metadata": {},
   "outputs": [],
   "source": [
    "actors=df5['Actors']\n",
    "for i in range(len(actors)):\n",
    "    actors[i]=actors[i].split('|')"
   ]
  },
  {
   "cell_type": "code",
   "execution_count": 7,
   "id": "6d433de0",
   "metadata": {},
   "outputs": [],
   "source": [
    "genres=df5['Genre']\n",
    "for i in range(len(genres)):\n",
    "    genres[i]=genres[i].split('|')"
   ]
  },
  {
   "cell_type": "code",
   "execution_count": 8,
   "id": "75a07ca0",
   "metadata": {},
   "outputs": [
    {
     "name": "stdout",
     "output_type": "stream",
     "text": [
      " Hugh Jackman\n",
      "Jake Gyllenhaal\n"
     ]
    }
   ],
   "source": [
    "list1=[]\n",
    "for l in range(len(actors)) :\n",
    "    for i in range(len(actors[l])):\n",
    "        for g in range(len(genres[l])):\n",
    "            list1.append([actors[l][i],genres[l][g]])    \n",
    "data=pd.DataFrame(columns=['actors','genres'])\n",
    "for i in range(len(list1)) :\n",
    "    data=data.append({'actors':list1[i][0],'genres':list1[i][1]},ignore_index=True)    \n",
    "\n",
    "data=data.drop_duplicates()\n",
    "dict3={}\n",
    "for i in data['actors'] :\n",
    "    var9=data.groupby('actors').get_group(i)\n",
    "    num_=var9['genres'].count()\n",
    "    \n",
    "    dict3.setdefault(i,num_)    \n",
    "df9=pd.DataFrame(list(dict3.items()),columns=['actors','num'])\n",
    "df9=df9.sort_values(by='num',ascending=False)\n",
    "top2=df9.head(2)\n",
    "\n",
    "print(top2.iloc[0][0])\n",
    "print(top2.iloc[1][0])"
   ]
  },
  {
   "cell_type": "code",
   "execution_count": 97,
   "id": "c8c3ac66",
   "metadata": {},
   "outputs": [
    {
     "name": "stderr",
     "output_type": "stream",
     "text": [
      "C:\\Users\\user\\AppData\\Local\\Temp/ipykernel_18216/1885561868.py:12: SettingWithCopyWarning: \n",
      "A value is trying to be set on a copy of a slice from a DataFrame\n",
      "\n",
      "See the caveats in the documentation: https://pandas.pydata.org/pandas-docs/stable/user_guide/indexing.html#returning-a-view-versus-a-copy\n",
      "  actors_[i]=actors_[i].split('|')\n"
     ]
    },
    {
     "name": "stdout",
     "output_type": "stream",
     "text": [
      "Jennifer Aniston\n",
      "Toni Collette\n",
      "Ben Kingsley\n",
      "Tom Cruise\n",
      "Tom Hanks\n",
      "Ben Whishaw\n",
      "Ellen Burstyn\n",
      "Johnny Depp\n",
      "Bob Balaban\n",
      "Paula Patton\n",
      "Brad Pitt\n",
      "Morgan Freeman\n",
      "Gerard Butler\n",
      "Michelle Monaghan\n",
      "Judi Dench\n",
      "Justin Theroux\n",
      "Owen Wilson\n",
      "Jessica Biel\n",
      "Emily Blunt\n",
      "Sacha Baron Cohen\n",
      "Steve Carell\n",
      "Jack Davenport\n",
      "Scarlett Johansson\n",
      "Dustin Hoffman\n",
      "Samuel L. Jackson\n",
      "Anne Hathaway\n",
      "Hugh Jackman\n",
      "Rachel Weisz\n",
      "Russell Crowe\n",
      "Dominic West\n",
      "Denzel Washington\n",
      "Jennifer Connelly\n",
      "Audrey Tautou\n",
      "Jeremy Irons\n",
      "Meryl Streep\n",
      "Edward Norton\n",
      "Bryce Dallas Howard\n",
      "Kate Bosworth\n",
      "Luke Wilson\n",
      "Abbie Cornish\n",
      "Kang-ho Song\n",
      "Marion Cotillard\n",
      "Chiwetel Ejiofor\n",
      "Christopher Plummer\n",
      "Will Smith\n",
      "Mark Wahlberg\n",
      "Kirsten Dunst\n",
      "Will Ferrell\n",
      "Matt Damon\n",
      "Kevin Spacey\n",
      "Christian Bale\n",
      "Eva Green\n",
      "Maya Rudolph\n"
     ]
    }
   ],
   "source": [
    "#第六題\n",
    "#Top‐3 actors whose movies lead to the largest maximum gap of years?\n",
    "acts_=df.loc[:,['Actors','Year']]\n",
    "\n",
    "actors_=acts_['Actors']\n",
    "years_=acts_['Year']\n",
    "\n",
    "df_act=pd.DataFrame(columns=['actors','year'])\n",
    "\n",
    "\n",
    "for i in range(len(actors_)) :\n",
    "    actors_[i]=actors_[i].split('|')\n",
    "    list3=[]\n",
    "    for l in range(len(actors_[i])):\n",
    "            actors_[i][l]=actors_[i][l].lstrip()\n",
    "            \n",
    "            df_act=df_act.append({'actors':actors_[i][l],'year':years_[i]},ignore_index=True)\n",
    "\n",
    "\n",
    "max_=df_act.groupby('actors').max()\n",
    "min_=df_act.groupby('actors').min()\n",
    "piece5=[max_,min_]\n",
    "summary_=pd.concat(piece5,axis=1)\n",
    "summary_.columns=['max','min']\n",
    "summary_['gap']=summary_['max']-summary_['min']\n",
    "summary_=summary_.sort_values(by='gap',ascending=False)\n",
    "\n",
    "summary_top1=summary_[summary_['gap']==summary_['gap'].max()]\n",
    "print('Top‐3 actors whose movies lead to the largest maximum gap of years?')\n",
    "for i in summary_top1.index :\n",
    "    print(i)\n",
    "#print(summary_top1.index,sep='/n')"
   ]
  },
  {
   "cell_type": "code",
   "execution_count": null,
   "id": "9c9beb4f",
   "metadata": {},
   "outputs": [],
   "source": []
  }
 ],
 "metadata": {
  "kernelspec": {
   "display_name": "Python 3",
   "language": "python",
   "name": "python3"
  },
  "language_info": {
   "codemirror_mode": {
    "name": "ipython",
    "version": 3
   },
   "file_extension": ".py",
   "mimetype": "text/x-python",
   "name": "python",
   "nbconvert_exporter": "python",
   "pygments_lexer": "ipython3",
   "version": "3.8.5"
  }
 },
 "nbformat": 4,
 "nbformat_minor": 5
}
